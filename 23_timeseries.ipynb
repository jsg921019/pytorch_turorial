{
 "cells": [
  {
   "cell_type": "code",
   "execution_count": 1,
   "metadata": {},
   "outputs": [
    {
     "data": {
      "text/plain": [
       "<torch._C.Generator at 0x7f2a2407f2d0>"
      ]
     },
     "execution_count": 1,
     "metadata": {},
     "output_type": "execute_result"
    }
   ],
   "source": [
    "import torch\n",
    "import torch.nn as nn\n",
    "import torch.optim as optim\n",
    "import numpy as np\n",
    "import pandas as pd\n",
    "import matplotlib.pyplot as plt\n",
    "\n",
    "torch.manual_seed(0)"
   ]
  },
  {
   "cell_type": "markdown",
   "metadata": {},
   "source": [
    "## Goal\n",
    "\n",
    "* predict next close price with 7 days data"
   ]
  },
  {
   "cell_type": "code",
   "execution_count": 2,
   "metadata": {},
   "outputs": [
    {
     "data": {
      "text/html": [
       "<div>\n",
       "<style scoped>\n",
       "    .dataframe tbody tr th:only-of-type {\n",
       "        vertical-align: middle;\n",
       "    }\n",
       "\n",
       "    .dataframe tbody tr th {\n",
       "        vertical-align: top;\n",
       "    }\n",
       "\n",
       "    .dataframe thead th {\n",
       "        text-align: right;\n",
       "    }\n",
       "</style>\n",
       "<table border=\"1\" class=\"dataframe\">\n",
       "  <thead>\n",
       "    <tr style=\"text-align: right;\">\n",
       "      <th></th>\n",
       "      <th>Open</th>\n",
       "      <th>High</th>\n",
       "      <th>Low</th>\n",
       "      <th>Volume</th>\n",
       "      <th>Close</th>\n",
       "    </tr>\n",
       "  </thead>\n",
       "  <tbody>\n",
       "    <tr>\n",
       "      <th>731</th>\n",
       "      <td>568.002570</td>\n",
       "      <td>568.002570</td>\n",
       "      <td>552.922516</td>\n",
       "      <td>13100</td>\n",
       "      <td>558.462551</td>\n",
       "    </tr>\n",
       "    <tr>\n",
       "      <th>730</th>\n",
       "      <td>561.202549</td>\n",
       "      <td>566.432590</td>\n",
       "      <td>558.672539</td>\n",
       "      <td>41200</td>\n",
       "      <td>559.992565</td>\n",
       "    </tr>\n",
       "    <tr>\n",
       "      <th>729</th>\n",
       "      <td>566.892592</td>\n",
       "      <td>567.002574</td>\n",
       "      <td>556.932537</td>\n",
       "      <td>10800</td>\n",
       "      <td>556.972503</td>\n",
       "    </tr>\n",
       "    <tr>\n",
       "      <th>728</th>\n",
       "      <td>558.712504</td>\n",
       "      <td>568.452595</td>\n",
       "      <td>558.712504</td>\n",
       "      <td>7900</td>\n",
       "      <td>567.162558</td>\n",
       "    </tr>\n",
       "    <tr>\n",
       "      <th>727</th>\n",
       "      <td>599.992707</td>\n",
       "      <td>604.832763</td>\n",
       "      <td>562.192568</td>\n",
       "      <td>147100</td>\n",
       "      <td>567.002574</td>\n",
       "    </tr>\n",
       "    <tr>\n",
       "      <th>...</th>\n",
       "      <td>...</td>\n",
       "      <td>...</td>\n",
       "      <td>...</td>\n",
       "      <td>...</td>\n",
       "      <td>...</td>\n",
       "    </tr>\n",
       "    <tr>\n",
       "      <th>4</th>\n",
       "      <td>819.000000</td>\n",
       "      <td>823.000000</td>\n",
       "      <td>816.000000</td>\n",
       "      <td>1053600</td>\n",
       "      <td>820.450012</td>\n",
       "    </tr>\n",
       "    <tr>\n",
       "      <th>3</th>\n",
       "      <td>819.359985</td>\n",
       "      <td>823.000000</td>\n",
       "      <td>818.469971</td>\n",
       "      <td>1304000</td>\n",
       "      <td>818.979980</td>\n",
       "    </tr>\n",
       "    <tr>\n",
       "      <th>2</th>\n",
       "      <td>819.929993</td>\n",
       "      <td>824.400024</td>\n",
       "      <td>818.979980</td>\n",
       "      <td>1281700</td>\n",
       "      <td>824.159973</td>\n",
       "    </tr>\n",
       "    <tr>\n",
       "      <th>1</th>\n",
       "      <td>823.020020</td>\n",
       "      <td>828.070007</td>\n",
       "      <td>821.655029</td>\n",
       "      <td>1597800</td>\n",
       "      <td>828.070007</td>\n",
       "    </tr>\n",
       "    <tr>\n",
       "      <th>0</th>\n",
       "      <td>828.659973</td>\n",
       "      <td>833.450012</td>\n",
       "      <td>828.349976</td>\n",
       "      <td>1247700</td>\n",
       "      <td>831.659973</td>\n",
       "    </tr>\n",
       "  </tbody>\n",
       "</table>\n",
       "<p>732 rows × 5 columns</p>\n",
       "</div>"
      ],
      "text/plain": [
       "           Open        High         Low   Volume       Close\n",
       "731  568.002570  568.002570  552.922516    13100  558.462551\n",
       "730  561.202549  566.432590  558.672539    41200  559.992565\n",
       "729  566.892592  567.002574  556.932537    10800  556.972503\n",
       "728  558.712504  568.452595  558.712504     7900  567.162558\n",
       "727  599.992707  604.832763  562.192568   147100  567.002574\n",
       "..          ...         ...         ...      ...         ...\n",
       "4    819.000000  823.000000  816.000000  1053600  820.450012\n",
       "3    819.359985  823.000000  818.469971  1304000  818.979980\n",
       "2    819.929993  824.400024  818.979980  1281700  824.159973\n",
       "1    823.020020  828.070007  821.655029  1597800  828.070007\n",
       "0    828.659973  833.450012  828.349976  1247700  831.659973\n",
       "\n",
       "[732 rows x 5 columns]"
      ]
     },
     "execution_count": 2,
     "metadata": {},
     "output_type": "execute_result"
    }
   ],
   "source": [
    "df = pd.read_csv('data/stock_daily.csv').iloc[::-1] # time ascending order\n",
    "df"
   ]
  },
  {
   "cell_type": "code",
   "execution_count": 3,
   "metadata": {},
   "outputs": [
    {
     "data": {
      "text/plain": [
       "Open       494.652237\n",
       "High       495.978230\n",
       "Low        487.562205\n",
       "Volume    7900.000000\n",
       "Close      492.552239\n",
       "dtype: float64"
      ]
     },
     "execution_count": 3,
     "metadata": {},
     "output_type": "execute_result"
    }
   ],
   "source": [
    "df.min()"
   ]
  },
  {
   "cell_type": "code",
   "execution_count": 4,
   "metadata": {},
   "outputs": [],
   "source": [
    "class MinMaxScaler:\n",
    "    \n",
    "    def __init__(self, df):\n",
    "        self.df = df\n",
    "        self.min = df.min()\n",
    "        self.max = df.max()\n",
    "        \n",
    "    def transform(self, df):\n",
    "        return (df - self.min) / (self.max - self.min)"
   ]
  },
  {
   "cell_type": "code",
   "execution_count": 5,
   "metadata": {},
   "outputs": [],
   "source": [
    "train_size = int(len(df) * 0.7)\n",
    "df_train = df.iloc[:train_size]\n",
    "\n",
    "scaler = MinMaxScaler(df_train)"
   ]
  },
  {
   "cell_type": "code",
   "execution_count": 50,
   "metadata": {},
   "outputs": [],
   "source": [
    "df_scaled = scaler.transform(df)"
   ]
  },
  {
   "cell_type": "code",
   "execution_count": 51,
   "metadata": {},
   "outputs": [],
   "source": [
    "x_train, y_train = [], []\n",
    "x_test, y_test = [], []\n",
    "\n",
    "for i in range(train_size-6):\n",
    "    x_train.append(df_scaled.iloc[i:i+7].values.copy())\n",
    "    y_train.append(df_scaled.iloc[i+7,-1].copy())\n",
    "    \n",
    "for i in range(train_size-6, len(df)-7):\n",
    "    x_test.append(df_scaled.iloc[i:i+7].values.copy())\n",
    "    y_test.append(df_scaled.iloc[i+7,-1].copy())\n",
    "    \n",
    "X_train = torch.FloatTensor(x_train)\n",
    "Y_train = torch.FloatTensor(y_train).unsqueeze(1)\n",
    "\n",
    "X_test = torch.FloatTensor(x_test)\n",
    "Y_test = torch.FloatTensor(y_test).unsqueeze(1)"
   ]
  },
  {
   "cell_type": "code",
   "execution_count": 59,
   "metadata": {},
   "outputs": [],
   "source": [
    "# hyper parameters\n",
    "\n",
    "seq_length = 7\n",
    "data_dim = 5\n",
    "hidden_dim = 10\n",
    "output_dim = 1\n",
    "learning_rate = 0.01\n",
    "n_epochs = 500"
   ]
  },
  {
   "cell_type": "code",
   "execution_count": 60,
   "metadata": {},
   "outputs": [],
   "source": [
    "class Net(torch.nn.Module):\n",
    "\n",
    "    def __init__(self, input_dim, hidden_dim, output_dim, layers):\n",
    "        super(Net, self).__init__()\n",
    "        self.rnn = nn.LSTM(input_dim, hidden_dim, num_layers=layers, batch_first=True)\n",
    "        self.fc = nn.Linear(hidden_dim, output_dim)\n",
    "\n",
    "    def forward(self, x):\n",
    "        x, _status = self.rnn(x)\n",
    "        x = self.fc(x[:, -1])\n",
    "        return x"
   ]
  },
  {
   "cell_type": "code",
   "execution_count": 61,
   "metadata": {},
   "outputs": [
    {
     "name": "stdout",
     "output_type": "stream",
     "text": [
      "epoch 50    loss: 0.0022\n",
      "epoch 100   loss: 0.0019\n",
      "epoch 150   loss: 0.0017\n",
      "epoch 200   loss: 0.0016\n",
      "epoch 250   loss: 0.0015\n",
      "epoch 300   loss: 0.0015\n",
      "epoch 350   loss: 0.0014\n",
      "epoch 400   loss: 0.0014\n",
      "epoch 450   loss: 0.0014\n",
      "epoch 500   loss: 0.0013\n"
     ]
    }
   ],
   "source": [
    "net = Net(data_dim, hidden_dim, output_dim, 1)\n",
    "criterion = nn.MSELoss()\n",
    "optimizer = optim.Adam(net.parameters(), lr=learning_rate)\n",
    "\n",
    "for epoch in range(1, n_epochs+1):\n",
    "\n",
    "    outputs = net(X_train)\n",
    "    loss = criterion(outputs, Y_train)\n",
    "\n",
    "    optimizer.zero_grad()\n",
    "    loss.backward()\n",
    "    optimizer.step()\n",
    "\n",
    "    if epoch%50 == 0:\n",
    "        print(f'epoch {epoch:<5} loss: {loss.item():.4f}')"
   ]
  },
  {
   "cell_type": "code",
   "execution_count": 62,
   "metadata": {
    "scrolled": true
   },
   "outputs": [
    {
     "data": {
      "image/png": "[encoded data removed]",
      "text/plain": [
       "<Figure size 432x288 with 1 Axes>"
      ]
     },
     "metadata": {
      "needs_background": "light"
     },
     "output_type": "display_data"
    }
   ],
   "source": [
    "plt.plot(Y_train)\n",
    "plt.plot(net(X_train).detach().numpy())\n",
    "plt.legend(['original', 'prediction'])\n",
    "plt.show()"
   ]
  }
 ],
 "metadata": {
  "kernelspec": {
   "display_name": "pytorch",
   "language": "python",
   "name": "pytorch"
  },
  "language_info": {
   "codemirror_mode": {
    "name": "ipython",
    "version": 3
   },
   "file_extension": ".py",
   "mimetype": "text/x-python",
   "name": "python",
   "nbconvert_exporter": "python",
   "pygments_lexer": "ipython3",
   "version": "3.8.10"
  }
 },
 "nbformat": 4,
 "nbformat_minor": 4
}
