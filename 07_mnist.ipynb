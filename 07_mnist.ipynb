{
 "cells": [
  {
   "cell_type": "code",
   "execution_count": 46,
   "metadata": {},
   "outputs": [],
   "source": [
    "import numpy as np\n",
    "import matplotlib.pyplot as plt\n",
    "\n",
    "import torch\n",
    "import torch.nn as nn\n",
    "import torchvision\n",
    "import torchvision.transforms as transforms\n",
    "from torch.utils.data import DataLoader"
   ]
  },
  {
   "cell_type": "code",
   "execution_count": 4,
   "metadata": {},
   "outputs": [],
   "source": [
    "device = 'cuda' if torch.cuda.is_available() else 'cpu'\n",
    "\n",
    "# for reproducibility\n",
    "np.random.seed(777)\n",
    "torch.manual_seed(777)\n",
    "if device == 'cuda':\n",
    "    torch.cuda.manual_seed_all(777)"
   ]
  },
  {
   "cell_type": "markdown",
   "metadata": {},
   "source": [
    "## MNIST dataset"
   ]
  },
  {
   "cell_type": "markdown",
   "metadata": {},
   "source": [
    "* torchvision.dataset에서 여러 dataset을 받을 수 있음\n",
    "  * `root` : 디렉토리\n",
    "  * `train` : True 면 훈련데이터 False면 테스트데이터\n",
    "  * `transform` : 적용할 transform\n",
    "  * `download` : 없으면 download\n",
    "* attributes\n",
    "  * `dataset_train.data` : 데이터\n",
    "  * `dataset_train.targets` : 레이블\n",
    "  * `dataset_classes` : 클래스 정보"
   ]
  },
  {
   "cell_type": "code",
   "execution_count": 18,
   "metadata": {},
   "outputs": [],
   "source": [
    "dataset_train = torchvision.datasets.MNIST(root='', train=True, transform=transforms.ToTensor())\n",
    "dataset_test = torchvision.datasets.MNIST(root='', train=False, transform=transforms.ToTensor())"
   ]
  },
  {
   "cell_type": "code",
   "execution_count": 39,
   "metadata": {},
   "outputs": [
    {
     "data": {
      "image/png": "[encoded data removed]",
      "text/plain": [
       "<Figure size 432x288 with 1 Axes>"
      ]
     },
     "metadata": {
      "needs_background": "light"
     },
     "output_type": "display_data"
    }
   ],
   "source": [
    "X, y = dataset_train[0]\n",
    "plt.imshow(X[0], cmap='Greys')\n",
    "plt.title(f'label: {y}')\n",
    "plt.axis('off')\n",
    "plt.show()"
   ]
  },
  {
   "cell_type": "markdown",
   "metadata": {},
   "source": [
    "## Training Example"
   ]
  },
  {
   "cell_type": "code",
   "execution_count": 49,
   "metadata": {},
   "outputs": [],
   "source": [
    "dataloader_train = DataLoader(dataset_train, batch_size=batch_size, shuffle=True, drop_last=True)\n",
    "dataloader_test = DataLoader(dataset_test, batch_size=batch_size, shuffle=True, drop_last=True)"
   ]
  },
  {
   "cell_type": "code",
   "execution_count": 47,
   "metadata": {},
   "outputs": [],
   "source": [
    "class SimpleClassifier(nn.Module):\n",
    "    \n",
    "    def __init__(self):\n",
    "        super(SimpleClassifier, self).__init__()\n",
    "        self.layer = nn.Linear(28*28, 10)\n",
    "    \n",
    "    def forward(self, X):\n",
    "        return self.layer(X)"
   ]
  },
  {
   "cell_type": "code",
   "execution_count": 62,
   "metadata": {},
   "outputs": [
    {
     "name": "stdout",
     "output_type": "stream",
     "text": [
      "Start training...\n",
      "epoch 1    training loss:0.537    training acc:86.533    test loss:0.362    test acc:90.290\n",
      "epoch 2    training loss:0.359    training acc:90.077    test loss:0.324    test acc:91.250\n",
      "epoch 3    training loss:0.331    training acc:90.775    test loss:0.309    test acc:91.600\n",
      "epoch 4    training loss:0.316    training acc:91.162    test loss:0.298    test acc:91.750\n",
      "epoch 5    training loss:0.307    training acc:91.443    test loss:0.293    test acc:91.910\n",
      "epoch 6    training loss:0.300    training acc:91.590    test loss:0.289    test acc:92.040\n",
      "epoch 7    training loss:0.295    training acc:91.792    test loss:0.286    test acc:92.100\n",
      "epoch 8    training loss:0.291    training acc:91.898    test loss:0.284    test acc:92.120\n",
      "epoch 9    training loss:0.287    training acc:91.980    test loss:0.280    test acc:92.100\n",
      "epoch 10    training loss:0.284    training acc:92.105    test loss:0.281    test acc:92.150\n",
      "epoch 11    training loss:0.282    training acc:92.205    test loss:0.277    test acc:92.120\n",
      "epoch 12    training loss:0.280    training acc:92.190    test loss:0.276    test acc:92.350\n",
      "epoch 13    training loss:0.278    training acc:92.273    test loss:0.275    test acc:92.320\n",
      "epoch 14    training loss:0.276    training acc:92.352    test loss:0.275    test acc:92.180\n",
      "epoch 15    training loss:0.274    training acc:92.322    test loss:0.274    test acc:92.170\n",
      "Finished Training\n"
     ]
    }
   ],
   "source": [
    "# hyperparameters\n",
    "training_epochs = 15\n",
    "batch_size = 100\n",
    "lr = 0.1\n",
    "\n",
    "model = SimpleClassifier().to(device)\n",
    "optimizer = torch.optim.SGD(model.parameters(), lr=lr)\n",
    "criterion = nn.CrossEntropyLoss()\n",
    "\n",
    "print('Start training...')\n",
    "\n",
    "for epoch in range(1, training_epochs+1):\n",
    "    \n",
    "    running_loss = 0\n",
    "    running_correct = 0\n",
    "    \n",
    "    for X, y in dataloader_train:\n",
    "        X, y = X.view(-1,28*28).to(device), y.to(device)\n",
    "        y_pred = model(X)\n",
    "        loss = criterion(y_pred, y)\n",
    "\n",
    "        optimizer.zero_grad()\n",
    "        loss.backward()\n",
    "        optimizer.step()\n",
    "        \n",
    "        with torch.no_grad():\n",
    "            running_loss += loss.item()\n",
    "            running_correct += sum(y_pred.argmax(dim=1) == y)\n",
    "    \n",
    "    running_test_loss = 0\n",
    "    running_test_correct = 0\n",
    "    \n",
    "    with torch.no_grad():\n",
    "        for X, y in dataloader_test:\n",
    "            X, y = X.view(-1,28*28).to(device), y.to(device)\n",
    "            y_pred = model(X)\n",
    "            loss = criterion(y_pred, y)\n",
    "\n",
    "            running_test_loss += loss.item()\n",
    "            running_test_correct += sum(y_pred.argmax(dim=1) == y)\n",
    "    \n",
    "    print(f'epoch {epoch}\\\n",
    "    training loss:{running_loss/len(dataloader_train):.3f}\\\n",
    "    training acc:{running_correct/len(dataloader_train):.3f}\\\n",
    "    test loss:{running_test_loss/len(dataloader_test):.3f}\\\n",
    "    test acc:{running_test_correct/len(dataloader_test):.3f}')\n",
    "\n",
    "print('Finished Training')"
   ]
  }
 ],
 "metadata": {
  "kernelspec": {
   "display_name": "pytorch",
   "language": "python",
   "name": "pytorch"
  },
  "language_info": {
   "codemirror_mode": {
    "name": "ipython",
    "version": 3
   },
   "file_extension": ".py",
   "mimetype": "text/x-python",
   "name": "python",
   "nbconvert_exporter": "python",
   "pygments_lexer": "ipython3",
   "version": "3.8.10"
  }
 },
 "nbformat": 4,
 "nbformat_minor": 4
}
