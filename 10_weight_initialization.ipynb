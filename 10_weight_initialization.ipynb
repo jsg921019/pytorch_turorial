{
 "cells": [
  {
   "cell_type": "code",
   "execution_count": 1,
   "metadata": {},
   "outputs": [],
   "source": [
    "import numpy as np\n",
    "import matplotlib.pyplot as plt\n",
    "\n",
    "import torch\n",
    "import torch.nn as nn\n",
    "import torchvision\n",
    "import torchvision.transforms as transforms\n",
    "from torch.utils.data import DataLoader"
   ]
  },
  {
   "cell_type": "markdown",
   "metadata": {},
   "source": [
    "## Xavier initialization"
   ]
  },
  {
   "cell_type": "markdown",
   "metadata": {},
   "source": [
    "* normal distribution"
   ]
  },
  {
   "cell_type": "markdown",
   "metadata": {},
   "source": [
    "$$\n",
    "\\mathbf{W} \\sim \\mathcal{N}(0,std(\\mathbf{W}))\\\\\n",
    "std(\\mathbf{W}) = \\sqrt{\\frac{2}{n_{in}+n_{out}}}\n",
    "$$"
   ]
  },
  {
   "cell_type": "markdown",
   "metadata": {},
   "source": [
    "* uniform distribution"
   ]
  },
  {
   "cell_type": "markdown",
   "metadata": {},
   "source": [
    "$$\n",
    "\\mathbf{W} \\sim \\mathcal{U}(-\\sqrt{\\frac{6}{n_{in}+n_{out}}}, \\sqrt{\\frac{6}{n_{in}+n_{out}}})\n",
    "$$"
   ]
  },
  {
   "cell_type": "code",
   "execution_count": 2,
   "metadata": {},
   "outputs": [],
   "source": [
    "device = 'cuda' if torch.cuda.is_available() else 'cpu'\n",
    "\n",
    "# for reproducibility\n",
    "np.random.seed(777)\n",
    "torch.manual_seed(777)\n",
    "if device == 'cuda':\n",
    "    torch.cuda.manual_seed_all(777)"
   ]
  },
  {
   "cell_type": "code",
   "execution_count": 3,
   "metadata": {},
   "outputs": [],
   "source": [
    "# hyperparameters\n",
    "lr = 0.001\n",
    "training_epochs = 15\n",
    "batch_size = 100"
   ]
  },
  {
   "cell_type": "code",
   "execution_count": 4,
   "metadata": {},
   "outputs": [],
   "source": [
    "dataset_train = torchvision.datasets.MNIST(root='', train=True, transform=transforms.ToTensor())\n",
    "dataset_test = torchvision.datasets.MNIST(root='', train=False, transform=transforms.ToTensor())"
   ]
  },
  {
   "cell_type": "code",
   "execution_count": 5,
   "metadata": {},
   "outputs": [],
   "source": [
    "dataloader_train = DataLoader(dataset_train, batch_size=batch_size, shuffle=True, drop_last=True)\n",
    "dataloader_test = DataLoader(dataset_test, batch_size=batch_size, shuffle=True, drop_last=True)"
   ]
  },
  {
   "cell_type": "code",
   "execution_count": 6,
   "metadata": {},
   "outputs": [],
   "source": [
    "model = nn.Sequential(nn.Linear(28*28, 256), nn.ReLU(),\n",
    "                      nn.Linear(256, 256), nn.ReLU(),\n",
    "                      nn.Linear(256, 10)).to(device)"
   ]
  },
  {
   "cell_type": "code",
   "execution_count": 7,
   "metadata": {},
   "outputs": [
    {
     "data": {
      "text/plain": [
       "Sequential(\n",
       "  (0): Linear(in_features=784, out_features=256, bias=True)\n",
       "  (1): ReLU()\n",
       "  (2): Linear(in_features=256, out_features=256, bias=True)\n",
       "  (3): ReLU()\n",
       "  (4): Linear(in_features=256, out_features=10, bias=True)\n",
       ")"
      ]
     },
     "execution_count": 7,
     "metadata": {},
     "output_type": "execute_result"
    }
   ],
   "source": [
    "# Xavier initialization\n",
    "\n",
    "def xavier(m):\n",
    "    if isinstance(m, nn.Linear):\n",
    "        nn.init.xavier_uniform_(m.weight.data)\n",
    "\n",
    "model.apply(xavier)"
   ]
  },
  {
   "cell_type": "code",
   "execution_count": 8,
   "metadata": {},
   "outputs": [
    {
     "name": "stdout",
     "output_type": "stream",
     "text": [
      "Start training...\n",
      "epoch 1    training loss:0.243    training acc:92.885    test loss:0.107    test acc:96.710\n",
      "epoch 2    training loss:0.091    training acc:97.200    test loss:0.095    test acc:96.940\n",
      "epoch 3    training loss:0.061    training acc:98.060    test loss:0.078    test acc:97.700\n",
      "epoch 4    training loss:0.043    training acc:98.603    test loss:0.094    test acc:97.240\n",
      "epoch 5    training loss:0.031    training acc:99.010    test loss:0.072    test acc:97.850\n",
      "epoch 6    training loss:0.025    training acc:99.157    test loss:0.078    test acc:97.700\n",
      "epoch 7    training loss:0.022    training acc:99.265    test loss:0.087    test acc:97.730\n",
      "epoch 8    training loss:0.018    training acc:99.393    test loss:0.075    test acc:98.050\n",
      "epoch 9    training loss:0.017    training acc:99.398    test loss:0.081    test acc:97.910\n",
      "epoch 10    training loss:0.014    training acc:99.522    test loss:0.091    test acc:97.750\n",
      "epoch 11    training loss:0.012    training acc:99.608    test loss:0.084    test acc:98.030\n",
      "epoch 12    training loss:0.014    training acc:99.520    test loss:0.079    test acc:98.190\n",
      "epoch 13    training loss:0.009    training acc:99.690    test loss:0.119    test acc:97.670\n",
      "epoch 14    training loss:0.011    training acc:99.630    test loss:0.085    test acc:98.120\n",
      "epoch 15    training loss:0.012    training acc:99.588    test loss:0.093    test acc:98.100\n",
      "Finished Training\n"
     ]
    }
   ],
   "source": [
    "optimizer = torch.optim.Adam(model.parameters(), lr=lr)\n",
    "criterion = nn.CrossEntropyLoss()\n",
    "\n",
    "print('Start training...')\n",
    "\n",
    "for epoch in range(1, training_epochs+1):\n",
    "\n",
    "    running_loss = 0\n",
    "    running_correct = 0\n",
    "\n",
    "    for X, y in dataloader_train:\n",
    "        X, y = X.view(-1,28*28).to(device), y.to(device)\n",
    "        y_pred = model(X)\n",
    "        loss = criterion(y_pred, y)\n",
    "\n",
    "        optimizer.zero_grad()\n",
    "        loss.backward()\n",
    "        optimizer.step()\n",
    "\n",
    "        with torch.no_grad():\n",
    "            running_loss += loss.item()\n",
    "            running_correct += sum(y_pred.argmax(dim=1) == y)\n",
    "\n",
    "    running_test_loss = 0\n",
    "    running_test_correct = 0\n",
    "    \n",
    "    with torch.no_grad():\n",
    "        for X, y in dataloader_test:\n",
    "            X, y = X.view(-1,28*28).to(device), y.to(device)\n",
    "            y_pred = model(X)\n",
    "            loss = criterion(y_pred, y)\n",
    "\n",
    "            running_test_loss += loss.item()\n",
    "            running_test_correct += sum(y_pred.argmax(dim=1) == y)\n",
    "    \n",
    "    print(f'epoch {epoch}\\\n",
    "    training loss:{running_loss/len(dataloader_train):.3f}\\\n",
    "    training acc:{running_correct/len(dataloader_train):.3f}\\\n",
    "    test loss:{running_test_loss/len(dataloader_test):.3f}\\\n",
    "    test acc:{running_test_correct/len(dataloader_test):.3f}')\n",
    "\n",
    "print('Finished Training')"
   ]
  },
  {
   "cell_type": "markdown",
   "metadata": {},
   "source": [
    "## He initialization"
   ]
  },
  {
   "cell_type": "markdown",
   "metadata": {},
   "source": [
    "* normal distribution"
   ]
  },
  {
   "cell_type": "markdown",
   "metadata": {},
   "source": [
    "$$\n",
    "\\mathbf{W} \\sim \\mathcal{N}(0,std^2(\\mathbf{W}))\\\\\n",
    "std(\\mathbf{W}) = \\sqrt{\\frac{2}{n_{in}}}\n",
    "$$"
   ]
  },
  {
   "cell_type": "markdown",
   "metadata": {},
   "source": [
    "* uniform distribution"
   ]
  },
  {
   "cell_type": "markdown",
   "metadata": {},
   "source": [
    "$$\n",
    "\\mathbf{W} \\sim \\mathcal{U}(-\\sqrt{\\frac{6}{n_{in}}}, \\sqrt{\\frac{6}{n_{in}}})\n",
    "$$"
   ]
  },
  {
   "cell_type": "code",
   "execution_count": 9,
   "metadata": {},
   "outputs": [],
   "source": [
    "model = nn.Sequential(nn.Linear(28*28, 256), nn.ReLU(),\n",
    "                      nn.Linear(256, 256), nn.ReLU(),\n",
    "                      nn.Linear(256, 10)).to(device)"
   ]
  },
  {
   "cell_type": "code",
   "execution_count": 10,
   "metadata": {},
   "outputs": [
    {
     "data": {
      "text/plain": [
       "Sequential(\n",
       "  (0): Linear(in_features=784, out_features=256, bias=True)\n",
       "  (1): ReLU()\n",
       "  (2): Linear(in_features=256, out_features=256, bias=True)\n",
       "  (3): ReLU()\n",
       "  (4): Linear(in_features=256, out_features=10, bias=True)\n",
       ")"
      ]
     },
     "execution_count": 10,
     "metadata": {},
     "output_type": "execute_result"
    }
   ],
   "source": [
    "# Xavier initialization\n",
    "\n",
    "def he(m):\n",
    "    if isinstance(m, nn.Linear):\n",
    "        nn.init.kaiming_uniform_(m.weight.data)\n",
    "\n",
    "model.apply(he)"
   ]
  },
  {
   "cell_type": "code",
   "execution_count": 11,
   "metadata": {},
   "outputs": [
    {
     "name": "stdout",
     "output_type": "stream",
     "text": [
      "Start training...\n",
      "epoch 1    training loss:0.235    training acc:93.008    test loss:0.109    test acc:96.640\n",
      "epoch 2    training loss:0.089    training acc:97.347    test loss:0.081    test acc:97.570\n",
      "epoch 3    training loss:0.059    training acc:98.210    test loss:0.078    test acc:97.510\n",
      "epoch 4    training loss:0.041    training acc:98.733    test loss:0.068    test acc:97.910\n",
      "epoch 5    training loss:0.031    training acc:98.988    test loss:0.066    test acc:97.920\n",
      "epoch 6    training loss:0.023    training acc:99.245    test loss:0.064    test acc:98.010\n",
      "epoch 7    training loss:0.022    training acc:99.235    test loss:0.081    test acc:97.710\n",
      "epoch 8    training loss:0.016    training acc:99.483    test loss:0.077    test acc:97.940\n",
      "epoch 9    training loss:0.016    training acc:99.445    test loss:0.071    test acc:98.130\n",
      "epoch 10    training loss:0.015    training acc:99.468    test loss:0.076    test acc:98.070\n",
      "epoch 11    training loss:0.012    training acc:99.610    test loss:0.098    test acc:97.760\n",
      "epoch 12    training loss:0.012    training acc:99.598    test loss:0.089    test acc:98.080\n",
      "epoch 13    training loss:0.009    training acc:99.680    test loss:0.086    test acc:98.140\n",
      "epoch 14    training loss:0.008    training acc:99.755    test loss:0.084    test acc:98.200\n",
      "epoch 15    training loss:0.008    training acc:99.717    test loss:0.097    test acc:98.080\n",
      "Finished Training\n"
     ]
    }
   ],
   "source": [
    "optimizer = torch.optim.Adam(model.parameters(), lr=lr)\n",
    "criterion = nn.CrossEntropyLoss()\n",
    "\n",
    "print('Start training...')\n",
    "\n",
    "for epoch in range(1, training_epochs+1):\n",
    "\n",
    "    running_loss = 0\n",
    "    running_correct = 0\n",
    "\n",
    "    for X, y in dataloader_train:\n",
    "        X, y = X.view(-1,28*28).to(device), y.to(device)\n",
    "        y_pred = model(X)\n",
    "        loss = criterion(y_pred, y)\n",
    "\n",
    "        optimizer.zero_grad()\n",
    "        loss.backward()\n",
    "        optimizer.step()\n",
    "\n",
    "        with torch.no_grad():\n",
    "            running_loss += loss.item()\n",
    "            running_correct += sum(y_pred.argmax(dim=1) == y)\n",
    "\n",
    "    running_test_loss = 0\n",
    "    running_test_correct = 0\n",
    "    \n",
    "    with torch.no_grad():\n",
    "        for X, y in dataloader_test:\n",
    "            X, y = X.view(-1,28*28).to(device), y.to(device)\n",
    "            y_pred = model(X)\n",
    "            loss = criterion(y_pred, y)\n",
    "\n",
    "            running_test_loss += loss.item()\n",
    "            running_test_correct += sum(y_pred.argmax(dim=1) == y)\n",
    "    \n",
    "    print(f'epoch {epoch}\\\n",
    "    training loss:{running_loss/len(dataloader_train):.3f}\\\n",
    "    training acc:{running_correct/len(dataloader_train):.3f}\\\n",
    "    test loss:{running_test_loss/len(dataloader_test):.3f}\\\n",
    "    test acc:{running_test_correct/len(dataloader_test):.3f}')\n",
    "\n",
    "print('Finished Training')"
   ]
  },
  {
   "cell_type": "markdown",
   "metadata": {},
   "source": [
    "* why pytorch uses different default init??"
   ]
  }
 ],
 "metadata": {
  "kernelspec": {
   "display_name": "pytorch",
   "language": "python",
   "name": "pytorch"
  },
  "language_info": {
   "codemirror_mode": {
    "name": "ipython",
    "version": 3
   },
   "file_extension": ".py",
   "mimetype": "text/x-python",
   "name": "python",
   "nbconvert_exporter": "python",
   "pygments_lexer": "ipython3",
   "version": "3.8.10"
  }
 },
 "nbformat": 4,
 "nbformat_minor": 4
}
