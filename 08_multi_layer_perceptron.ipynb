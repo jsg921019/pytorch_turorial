{
 "cells": [
  {
   "cell_type": "code",
   "execution_count": 1,
   "metadata": {},
   "outputs": [],
   "source": [
    "import torch\n",
    "import numpy as np\n",
    "import matplotlib.pyplot as plt"
   ]
  },
  {
   "cell_type": "markdown",
   "metadata": {},
   "source": [
    "## XOR Problem"
   ]
  },
  {
   "cell_type": "code",
   "execution_count": 2,
   "metadata": {},
   "outputs": [
    {
     "data": {
      "image/png": "[encoded data removed]",
      "text/plain": [
       "<Figure size 432x288 with 1 Axes>"
      ]
     },
     "metadata": {
      "needs_background": "light"
     },
     "output_type": "display_data"
    }
   ],
   "source": [
    "x = np.array([[0, 0],\n",
    "              [0, 1],\n",
    "              [1, 0],\n",
    "              [1, 1]])\n",
    "\n",
    "label = np.array([0, 1, 1, 0])\n",
    "\n",
    "cdict = {0: 'red', 1: 'blue'}\n",
    "for g in [0, 1]:\n",
    "    idx = np.nonzero(label == g)\n",
    "    plt.scatter(x[idx,0], x[idx,1], marker='x', c = cdict[g], label = g, s = 100)\n",
    "\n",
    "plt.axis('scaled')\n",
    "plt.xlim(-0.2,2)\n",
    "plt.ylim(-0.2,2)\n",
    "plt.legend()\n",
    "plt.title('Can you classify this?')\n",
    "plt.show()"
   ]
  },
  {
   "cell_type": "markdown",
   "metadata": {},
   "source": [
    "## Using Logistic Regression"
   ]
  },
  {
   "cell_type": "code",
   "execution_count": 3,
   "metadata": {},
   "outputs": [
    {
     "name": "stdout",
     "output_type": "stream",
     "text": [
      "Start Training...\n",
      "epoch 100   loss:0.693\n",
      "epoch 200   loss:0.693\n",
      "epoch 300   loss:0.693\n",
      "epoch 400   loss:0.693\n",
      "epoch 500   loss:0.693\n",
      "epoch 600   loss:0.693\n",
      "epoch 700   loss:0.693\n",
      "epoch 800   loss:0.693\n",
      "epoch 900   loss:0.693\n",
      "epoch 1000   loss:0.693\n",
      "Finished Training... final accuracy : 0.500\n"
     ]
    }
   ],
   "source": [
    "import torch.nn as nn\n",
    "\n",
    "model = nn.Sequential(nn.Linear(2,1), nn.Sigmoid())\n",
    "criterion = nn.BCELoss()\n",
    "optimizer = torch.optim.SGD(model.parameters(), lr=1.0)\n",
    "\n",
    "X = torch.Tensor(x)\n",
    "y = torch.Tensor(label).unsqueeze(1)\n",
    "\n",
    "print('Start Training...')\n",
    "for epoch in range(1, 1001):\n",
    "    y_pred = model(X)\n",
    "    loss = criterion(y_pred, y)\n",
    "    optimizer.zero_grad()\n",
    "    loss.backward()\n",
    "    optimizer.step()\n",
    "    \n",
    "    if epoch%100 == 0:\n",
    "        print(f'epoch {epoch}   loss:{loss.item():.3f}')\n",
    "\n",
    "acc = ((y_pred >= 0.5) == y).sum() / len(X)\n",
    "print(f'Finished Training... final accuracy : {acc:.3f}')"
   ]
  },
  {
   "cell_type": "markdown",
   "metadata": {},
   "source": [
    "## Using MultiLayer"
   ]
  },
  {
   "cell_type": "code",
   "execution_count": 4,
   "metadata": {
    "scrolled": false
   },
   "outputs": [
    {
     "name": "stdout",
     "output_type": "stream",
     "text": [
      "Start Training...\n",
      "epoch 100   loss:0.038\n",
      "epoch 200   loss:0.008\n",
      "epoch 300   loss:0.004\n",
      "epoch 400   loss:0.003\n",
      "epoch 500   loss:0.002\n",
      "epoch 600   loss:0.002\n",
      "epoch 700   loss:0.002\n",
      "epoch 800   loss:0.001\n",
      "epoch 900   loss:0.001\n",
      "epoch 1000   loss:0.001\n",
      "Finished Training... final accuracy : 1.000\n"
     ]
    }
   ],
   "source": [
    "model = nn.Sequential(nn.Linear(2,10), nn.Sigmoid(), nn.Linear(10,1), nn.Sigmoid())\n",
    "criterion = nn.BCELoss()\n",
    "optimizer = torch.optim.SGD(model.parameters(), lr=10.0)\n",
    "\n",
    "X = torch.Tensor(x)\n",
    "y = torch.Tensor(label).unsqueeze(1)\n",
    "\n",
    "print('Start Training...')\n",
    "for epoch in range(1, 1001):\n",
    "    y_pred = model(X)\n",
    "    loss = criterion(y_pred, y)\n",
    "    optimizer.zero_grad()\n",
    "    loss.backward()\n",
    "    optimizer.step()\n",
    "    \n",
    "    if epoch%100 == 0:\n",
    "        print(f'epoch {epoch}   loss:{loss.item():.3f}')\n",
    "\n",
    "acc = ((y_pred >= 0.5) == y).sum() / len(X)\n",
    "print(f'Finished Training... final accuracy : {acc:.3f}')"
   ]
  }
 ],
 "metadata": {
  "kernelspec": {
   "display_name": "pytorch",
   "language": "python",
   "name": "pytorch"
  },
  "language_info": {
   "codemirror_mode": {
    "name": "ipython",
    "version": 3
   },
   "file_extension": ".py",
   "mimetype": "text/x-python",
   "name": "python",
   "nbconvert_exporter": "python",
   "pygments_lexer": "ipython3",
   "version": "3.8.10"
  }
 },
 "nbformat": 4,
 "nbformat_minor": 4
}
