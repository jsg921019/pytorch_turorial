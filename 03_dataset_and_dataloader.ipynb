{
 "cells": [
  {
   "cell_type": "code",
   "execution_count": 1,
   "metadata": {},
   "outputs": [],
   "source": [
    "import torch\n",
    "import numpy as np"
   ]
  },
  {
   "cell_type": "markdown",
   "metadata": {},
   "source": [
    "## Custom Dataset"
   ]
  },
  {
   "cell_type": "markdown",
   "metadata": {},
   "source": [
    "* torch.utils.data 의 Dataset을 상속받으며 다음을 구현해야함\n",
    "  * __init__\n",
    "  * __len__\n",
    "  * __getitem__"
   ]
  },
  {
   "cell_type": "code",
   "execution_count": 55,
   "metadata": {},
   "outputs": [],
   "source": [
    "from torch.utils.data import Dataset\n",
    "\n",
    "X = np.random.rand(1000, 5) * 10.0\n",
    "y = X.dot(np.array([1.0, 2.0, 3.0, 4.0, 5.0])) + 6.0 + np.random.rand(1000)\n",
    "\n",
    "class CustomImageDataset(Dataset):\n",
    "\n",
    "    def __init__(self, X, y, dtype=None):\n",
    "        self.X = X\n",
    "        self.y = y\n",
    "        if dtype:\n",
    "            self.X = torch.as_tensor(self.X, dtype=dtype)\n",
    "            self.y = torch.as_tensor(self.y, dtype=dtype)\n",
    "\n",
    "    def __len__(self):\n",
    "        return len(self.y)\n",
    "\n",
    "    def __getitem__(self, idx):\n",
    "        return self.X[idx], self.y[idx]"
   ]
  },
  {
   "cell_type": "markdown",
   "metadata": {},
   "source": [
    "## Dataloader"
   ]
  },
  {
   "cell_type": "markdown",
   "metadata": {},
   "source": [
    "* torch.utils.data의 Dataloader의 기능은 다음과 같음\n",
    "  * dataset를 받아 batch 단위로 iterate 시켜줌\n",
    "  * 매 epoch마다 shuffle을 실행할 수 있음\n",
    "  * 이 과정을 멀티쓰레딩으로 가속시킬 수 있음"
   ]
  },
  {
   "cell_type": "code",
   "execution_count": 58,
   "metadata": {},
   "outputs": [
    {
     "name": "stdout",
     "output_type": "stream",
     "text": [
      "tensor([[5.6075, 7.0339, 4.3125, 5.0870, 1.6022],\n",
      "        [2.7735, 2.8427, 6.4811, 1.6801, 8.4714],\n",
      "        [3.4545, 4.3071, 2.5694, 4.4552, 0.3265],\n",
      "        [1.7226, 2.5115, 5.7192, 5.0990, 0.5497],\n",
      "        [7.1981, 5.1063, 9.0864, 9.4210, 7.6188]]) tensor([ 67.5757,  83.2501,  45.7142,  53.8314, 126.8450])\n",
      "tensor([[0.9450, 1.1431, 7.1945, 8.5053, 7.8193],\n",
      "        [0.1176, 6.8820, 3.2056, 9.9035, 4.4179],\n",
      "        [5.5034, 9.8880, 8.9753, 9.7322, 4.9221],\n",
      "        [8.2694, 8.4153, 2.2376, 4.0464, 8.7692],\n",
      "        [7.2636, 2.2066, 3.0165, 6.4372, 3.1057]]) tensor([104.7104,  91.6585, 122.3220,  98.7609,  68.7350])\n",
      "tensor([[9.3129, 0.3530, 7.9980, 4.7830, 3.0471],\n",
      "        [4.0546, 3.6643, 7.4553, 7.1421, 1.1355],\n",
      "        [8.4149, 5.8702, 8.4062, 8.5694, 5.0408],\n",
      "        [0.0157, 0.1927, 6.5550, 8.3439, 4.6678],\n",
      "        [8.7862, 9.7474, 0.2295, 3.2254, 6.7230]]) tensor([ 74.9420,  74.3410, 111.5862,  83.0658,  82.3148])\n",
      "tensor([[0.4326, 1.0500, 3.4490, 0.1473, 8.1127],\n",
      "        [1.3455, 2.7608, 9.1860, 0.6431, 9.5499],\n",
      "        [3.8145, 9.5391, 8.1456, 3.8902, 5.3548],\n",
      "        [6.3737, 5.6942, 0.8229, 7.7301, 1.8987],\n",
      "        [0.0260, 5.4513, 3.2457, 9.2740, 6.4286]]) tensor([60.2990, 91.1835, 95.8981, 66.6539, 96.0866])\n"
     ]
    }
   ],
   "source": [
    "from torch.utils.data import DataLoader\n",
    "\n",
    "dataset = CustomImageDataset(X, y, dtype=torch.float32)\n",
    "dataloader = DataLoader(dataset, batch_size=5, shuffle=True)\n",
    "for step, (X_, y_) in enumerate(dataloader):\n",
    "    print(X_, y_)\n",
    "    if step == 3:\n",
    "        break"
   ]
  },
  {
   "cell_type": "markdown",
   "metadata": {},
   "source": [
    "## Mini Batch Gradient Descent"
   ]
  },
  {
   "cell_type": "code",
   "execution_count": 59,
   "metadata": {},
   "outputs": [],
   "source": [
    "import torch.nn as nn\n",
    "from torch.optim import SGD"
   ]
  },
  {
   "cell_type": "code",
   "execution_count": 78,
   "metadata": {},
   "outputs": [],
   "source": [
    "class LinearModel(nn.Module):\n",
    "    \n",
    "    def __init__(self):\n",
    "        super(LinearModel, self).__init__()\n",
    "        self.layer = nn.Linear(5,1)\n",
    "    \n",
    "    def forward(self, X):\n",
    "        return self.layer(X)"
   ]
  },
  {
   "cell_type": "code",
   "execution_count": 91,
   "metadata": {},
   "outputs": [
    {
     "name": "stdout",
     "output_type": "stream",
     "text": [
      "epoch : 10,  loss : 1.100, W : [1.1693529 2.1699708 3.1719947 4.1801596 5.162608 ], b : 2.167\n",
      "epoch : 20,  loss : 0.342, W : [1.1287837 2.124685  3.14051   4.146009  5.117589 ], b : 3.137\n",
      "epoch : 30,  loss : 0.660, W : [1.1022599 2.1164095 3.117995  4.1045623 5.0952406], b : 3.888\n",
      "epoch : 40,  loss : 0.228, W : [1.0843624 2.0729866 3.0743763 4.0753584 5.066502 ], b : 4.469\n",
      "epoch : 50,  loss : 0.509, W : [1.0648937 2.0521774 3.0595744 4.053874  5.057447 ], b : 4.918\n",
      "epoch : 60,  loss : 0.451, W : [1.0545204 2.0416481 3.0498443 4.049986  5.0416665], b : 5.268\n",
      "epoch : 70,  loss : 0.153, W : [1.0447928 2.0369017 3.040929  4.0424566 5.035152 ], b : 5.539\n",
      "epoch : 80,  loss : 0.206, W : [1.0315843 2.0278256 3.024155  4.026033  5.0252953], b : 5.747\n",
      "epoch : 90,  loss : 0.144, W : [1.0207733 2.0228195 3.0219462 4.017365  5.0225353], b : 5.909\n",
      "epoch : 100,  loss : 0.065, W : [1.0260134 2.0178342 3.0116835 4.012835  5.0092225], b : 6.034\n"
     ]
    }
   ],
   "source": [
    "model = LinearModel()\n",
    "\n",
    "n_epochs = 100\n",
    "loss_fn = nn.MSELoss()\n",
    "optimizer = SGD(model.parameters(), lr=0.001)\n",
    "\n",
    "for epoch in range(n_epochs):\n",
    "    for step, (X_, y_) in enumerate(dataloader):\n",
    "        \n",
    "        y_pred = model(X_)\n",
    "        loss = loss_fn(y_pred, y_.unsqueeze(1))\n",
    "        \n",
    "        optimizer.zero_grad()\n",
    "        loss.backward()\n",
    "        optimizer.step()\n",
    "        \n",
    "    if (epoch+1)%10 == 0:\n",
    "        W, b = list(model.parameters())\n",
    "        print(f'epoch : {epoch+1},  loss : {loss:.3f}, W : {W.detach().numpy()[0]}, b : {b.item():.3f}')"
   ]
  }
 ],
 "metadata": {
  "kernelspec": {
   "display_name": "pytorch",
   "language": "python",
   "name": "pytorch"
  },
  "language_info": {
   "codemirror_mode": {
    "name": "ipython",
    "version": 3
   },
   "file_extension": ".py",
   "mimetype": "text/x-python",
   "name": "python",
   "nbconvert_exporter": "python",
   "pygments_lexer": "ipython3",
   "version": "3.8.10"
  }
 },
 "nbformat": 4,
 "nbformat_minor": 4
}
