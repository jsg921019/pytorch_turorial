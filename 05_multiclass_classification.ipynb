{
 "cells": [
  {
   "cell_type": "code",
   "execution_count": 1,
   "metadata": {},
   "outputs": [],
   "source": [
    "import torch\n",
    "import numpy as np\n",
    "import matplotlib.pyplot as plt"
   ]
  },
  {
   "cell_type": "markdown",
   "metadata": {},
   "source": [
    "## Data"
   ]
  },
  {
   "cell_type": "code",
   "execution_count": 2,
   "metadata": {},
   "outputs": [],
   "source": [
    "np.random.seed(6)\n",
    "torch.manual_seed(0)\n",
    "x0 = np.random.randn(100,2) * 0.35 + np.array([-0.7,1])\n",
    "x1 = np.random.randn(100,2) * 0.35 + np.array([0,-0.5])\n",
    "x2 = np.random.randn(100,2) * 0.35 + np.array([0.7,1])\n",
    "x3 = np.random.randn(10,2) * 0.8"
   ]
  },
  {
   "cell_type": "code",
   "execution_count": 3,
   "metadata": {},
   "outputs": [
    {
     "data": {
      "text/plain": [
       "<matplotlib.legend.Legend at 0x7f6cbe7bbfa0>"
      ]
     },
     "execution_count": 3,
     "metadata": {},
     "output_type": "execute_result"
    },
    {
     "data": {
      "image/png": "[encoded data removed]",
      "text/plain": [
       "<Figure size 432x288 with 1 Axes>"
      ]
     },
     "metadata": {
      "needs_background": "light"
     },
     "output_type": "display_data"
    }
   ],
   "source": [
    "plt.scatter(x0[:,0], x0[:,1], c='c', label='label: 0')\n",
    "plt.scatter(x1[:,0], x1[:,1], c='y', label='label: 1')\n",
    "plt.scatter(x2[:,0], x2[:,1], c='m', label='label: 2')\n",
    "plt.scatter(x3[:,0], x3[:,1], c='k', label='label: ?')\n",
    "plt.legend()"
   ]
  },
  {
   "cell_type": "code",
   "execution_count": 4,
   "metadata": {},
   "outputs": [],
   "source": [
    "X = np.concatenate([x0, x1, x2])\n",
    "y = np.array([0]*100 + [1]*100 + [2]*100)"
   ]
  },
  {
   "cell_type": "markdown",
   "metadata": {},
   "source": [
    "## Softmax"
   ]
  },
  {
   "cell_type": "markdown",
   "metadata": {},
   "source": [
    "$$ P(class=i) = \\frac{e^i}{\\sum e^i} $$"
   ]
  },
  {
   "cell_type": "code",
   "execution_count": 5,
   "metadata": {},
   "outputs": [],
   "source": [
    "def softmax(X):\n",
    "    max_X, _ = torch.max(X, dim=1, keepdim=True)\n",
    "    X = X - max_X\n",
    "    exp_X = torch.exp(X)\n",
    "    return exp_X / exp_X.sum(dim=1, keepdim=True)"
   ]
  },
  {
   "cell_type": "code",
   "execution_count": 6,
   "metadata": {},
   "outputs": [
    {
     "name": "stdout",
     "output_type": "stream",
     "text": [
      "tensor([[0.0171, 0.0466, 0.9362],\n",
      "        [0.3333, 0.3333, 0.3333]])\n",
      "tensor([1., 1.])\n"
     ]
    }
   ],
   "source": [
    "t = torch.Tensor([[1, 2, 5],[2, 2, 2]])\n",
    "out = softmax(t)\n",
    "print(out)\n",
    "print(out.sum(dim=1))"
   ]
  },
  {
   "cell_type": "markdown",
   "metadata": {},
   "source": [
    "## One-hot vector"
   ]
  },
  {
   "cell_type": "code",
   "execution_count": 7,
   "metadata": {},
   "outputs": [],
   "source": [
    "n_class = 3\n",
    "t = torch.LongTensor([1, 2, 0, 1])"
   ]
  },
  {
   "cell_type": "code",
   "execution_count": 8,
   "metadata": {},
   "outputs": [
    {
     "data": {
      "text/plain": [
       "tensor([[0., 1., 0.],\n",
       "        [0., 0., 1.],\n",
       "        [1., 0., 0.],\n",
       "        [0., 1., 0.]])"
      ]
     },
     "execution_count": 8,
     "metadata": {},
     "output_type": "execute_result"
    }
   ],
   "source": [
    "def one_hot(y):\n",
    "    y_one_hot = torch.zeros(len(y), n_class)\n",
    "    return y_one_hot.scatter_(1, y.unsqueeze(1), 1)\n",
    "\n",
    "one_hot(t)"
   ]
  },
  {
   "cell_type": "markdown",
   "metadata": {},
   "source": [
    "## Cross Entropy Loss"
   ]
  },
  {
   "cell_type": "markdown",
   "metadata": {},
   "source": [
    "$$ L = \\frac{1}{N} \\sum - y \\log(\\hat{y}) $$"
   ]
  },
  {
   "cell_type": "code",
   "execution_count": 9,
   "metadata": {},
   "outputs": [],
   "source": [
    "def cross_entropy(y_pred, y):\n",
    "    return -torch.mean((y * torch.log(y_pred)).sum(dim=1))"
   ]
  },
  {
   "cell_type": "markdown",
   "metadata": {},
   "source": [
    "## Implimentation"
   ]
  },
  {
   "cell_type": "code",
   "execution_count": 10,
   "metadata": {},
   "outputs": [],
   "source": [
    "def MultiClassClassifier(X):\n",
    "    return softmax(X @ W + b)"
   ]
  },
  {
   "cell_type": "code",
   "execution_count": 11,
   "metadata": {},
   "outputs": [
    {
     "name": "stdout",
     "output_type": "stream",
     "text": [
      "epoch:100   loss:0.639   acc:0.947\n",
      "epoch:200   loss:0.455   acc:0.960\n",
      "epoch:300   loss:0.361   acc:0.963\n",
      "epoch:400   loss:0.304   acc:0.973\n",
      "epoch:500   loss:0.266   acc:0.977\n",
      "epoch:600   loss:0.239   acc:0.977\n",
      "epoch:700   loss:0.219   acc:0.977\n",
      "epoch:800   loss:0.203   acc:0.977\n",
      "epoch:900   loss:0.190   acc:0.980\n",
      "epoch:1000   loss:0.179   acc:0.980\n"
     ]
    }
   ],
   "source": [
    "X_train = torch.Tensor(X)\n",
    "y_train = torch.LongTensor(y)\n",
    "X_test = torch.Tensor(x3)\n",
    "\n",
    "n_class = 3\n",
    "n_epochs = 1000\n",
    "lr = 0.03\n",
    "\n",
    "W = torch.zeros(2, n_class, requires_grad=True)\n",
    "b = torch.zeros(n_class, requires_grad=True)\n",
    "\n",
    "for epoch in range(n_epochs):\n",
    "    \n",
    "    y_pred = MultiClassClassifier(X_train)\n",
    "    loss = cross_entropy(y_pred, one_hot(y_train))\n",
    "    loss.backward()\n",
    "\n",
    "    with torch.no_grad():\n",
    "        \n",
    "        # backward propagation\n",
    "        for param in [W, b]:\n",
    "            param -= lr * param.grad\n",
    "            param.grad.data.zero_()\n",
    "\n",
    "        # calculate accuracy\n",
    "        acc = (y_pred.argmax(dim=1) == y_train).sum() / len(X_train) \n",
    "\n",
    "    if (epoch+1)%100 == 0:\n",
    "        print(f'epoch:{epoch+1}   loss:{loss.item():.3f}   acc:{acc:.3f}')"
   ]
  },
  {
   "cell_type": "markdown",
   "metadata": {},
   "source": [
    "## Get prediction"
   ]
  },
  {
   "cell_type": "code",
   "execution_count": 12,
   "metadata": {},
   "outputs": [],
   "source": [
    "with torch.no_grad():\n",
    "    y_test = MultiClassClassifier(X_test).argmax(dim=1)"
   ]
  },
  {
   "cell_type": "code",
   "execution_count": 13,
   "metadata": {},
   "outputs": [
    {
     "data": {
      "image/png": "[encoded data removed]",
      "text/plain": [
       "<Figure size 432x288 with 1 Axes>"
      ]
     },
     "metadata": {
      "needs_background": "light"
     },
     "output_type": "display_data"
    }
   ],
   "source": [
    "plt.scatter(X_train[:,0], X_train[:,1], c='grey', alpha =0.15)\n",
    "plt.scatter(X_test[:,0], X_test[:,1], marker='x', s=50, lw=3, c=y_test, cmap='tab10')\n",
    "plt.show()"
   ]
  },
  {
   "cell_type": "markdown",
   "metadata": {},
   "source": [
    "## Using Pytorch libraries"
   ]
  },
  {
   "cell_type": "code",
   "execution_count": 14,
   "metadata": {},
   "outputs": [],
   "source": [
    "import torch.nn as nn\n",
    "\n",
    "class MultiClassClassifier(nn.Module):\n",
    "    \n",
    "    def __init__(self, nclass):\n",
    "        super(MultiClassClassifier, self).__init__()\n",
    "        self.layer = nn.Linear(2, n_class)\n",
    "\n",
    "    def forward(self, X):\n",
    "        out = self.layer(X)\n",
    "        return out"
   ]
  },
  {
   "cell_type": "code",
   "execution_count": 15,
   "metadata": {},
   "outputs": [
    {
     "name": "stdout",
     "output_type": "stream",
     "text": [
      "epoch:100   loss:0.567   acc:0.967\n",
      "epoch:200   loss:0.413   acc:0.977\n",
      "epoch:300   loss:0.335   acc:0.977\n",
      "epoch:400   loss:0.286   acc:0.977\n",
      "epoch:500   loss:0.253   acc:0.977\n",
      "epoch:600   loss:0.229   acc:0.977\n",
      "epoch:700   loss:0.211   acc:0.977\n",
      "epoch:800   loss:0.196   acc:0.977\n",
      "epoch:900   loss:0.185   acc:0.977\n",
      "epoch:1000   loss:0.175   acc:0.980\n"
     ]
    }
   ],
   "source": [
    "from torch.optim import SGD\n",
    "\n",
    "X_train = torch.Tensor(X)\n",
    "y_train = torch.LongTensor(y)\n",
    "\n",
    "n_class = 3\n",
    "n_epochs = 1000\n",
    "lr = 0.03\n",
    "\n",
    "model = MultiClassClassifier(n_class)\n",
    "optimizer = SGD(model.parameters(), lr=lr)\n",
    "loss_fn = nn.CrossEntropyLoss()\n",
    "\n",
    "for epoch in range(n_epochs):\n",
    "    y_pred = model(X_train)\n",
    "    loss = loss_fn(y_pred, y_train)\n",
    "    optimizer.zero_grad()\n",
    "    loss.backward()\n",
    "    optimizer.step()\n",
    "\n",
    "    with torch.no_grad():\n",
    "        acc = torch.sum((y_pred.argmax(dim=1) == y_train).sum() / len(X_train))\n",
    "\n",
    "    if (epoch+1)%100 == 0:\n",
    "        print(f'epoch:{epoch+1}   loss:{loss.item():.3f}   acc:{acc:.3f}')"
   ]
  }
 ],
 "metadata": {
  "kernelspec": {
   "display_name": "pytorch",
   "language": "python",
   "name": "pytorch"
  },
  "language_info": {
   "codemirror_mode": {
    "name": "ipython",
    "version": 3
   },
   "file_extension": ".py",
   "mimetype": "text/x-python",
   "name": "python",
   "nbconvert_exporter": "python",
   "pygments_lexer": "ipython3",
   "version": "3.8.10"
  }
 },
 "nbformat": 4,
 "nbformat_minor": 4
}
