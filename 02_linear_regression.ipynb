{
 "cells": [
  {
   "cell_type": "code",
   "execution_count": 1,
   "metadata": {},
   "outputs": [],
   "source": [
    "import torch\n",
    "import numpy as np\n",
    "import matplotlib.pyplot as plt"
   ]
  },
  {
   "cell_type": "markdown",
   "metadata": {},
   "source": [
    "## Data"
   ]
  },
  {
   "cell_type": "code",
   "execution_count": 2,
   "metadata": {},
   "outputs": [],
   "source": [
    "x_ = np.random.rand(100)*10\n",
    "y_ = 2 * x_ + 10 + np.random.randn(100)*0.5"
   ]
  },
  {
   "cell_type": "code",
   "execution_count": 3,
   "metadata": {},
   "outputs": [
    {
     "data": {
      "image/png": "[encoded data removed]",
      "text/plain": [
       "<Figure size 432x288 with 1 Axes>"
      ]
     },
     "metadata": {
      "needs_background": "light"
     },
     "output_type": "display_data"
    }
   ],
   "source": [
    "plt.plot(x_, y_, '.')\n",
    "plt.show()"
   ]
  },
  {
   "cell_type": "markdown",
   "metadata": {},
   "source": [
    "## Linear Regression Model"
   ]
  },
  {
   "cell_type": "markdown",
   "metadata": {},
   "source": [
    "$$ H(x) = Wx + b $$"
   ]
  },
  {
   "cell_type": "code",
   "execution_count": 4,
   "metadata": {},
   "outputs": [],
   "source": [
    "def LinearRegression(X):\n",
    "    return W * X + b"
   ]
  },
  {
   "cell_type": "markdown",
   "metadata": {},
   "source": [
    "## Cost Function"
   ]
  },
  {
   "cell_type": "markdown",
   "metadata": {},
   "source": [
    "$$ cost(W, b) = \\frac{1}{m} \\sum^m_{i=1} \\left( H(x^{(i)}) - y^{(i)} \\right)^2 $$"
   ]
  },
  {
   "cell_type": "code",
   "execution_count": 5,
   "metadata": {},
   "outputs": [],
   "source": [
    "def MSEloss(y_pred, y):\n",
    "    return torch.mean((y_pred-y)**2)"
   ]
  },
  {
   "cell_type": "markdown",
   "metadata": {},
   "source": [
    "## Gradient Descent"
   ]
  },
  {
   "cell_type": "markdown",
   "metadata": {},
   "source": [
    "$$ \\nabla W = \\frac{\\partial cost}{\\partial W} = \\frac{2}{m} \\sum^m_{i=1} \\left( Wx^{(i)} - y^{(i)} \\right)x^{(i)} $$"
   ]
  },
  {
   "cell_type": "markdown",
   "metadata": {},
   "source": [
    "$$ W := W - \\alpha \\nabla W $$"
   ]
  },
  {
   "cell_type": "code",
   "execution_count": 6,
   "metadata": {},
   "outputs": [],
   "source": [
    "def gradient_descent(params, lr=0.01):\n",
    "    with torch.no_grad(): # do not calculate gradient in this block\n",
    "        for param in params:\n",
    "            param -= lr * param.grad.data\n",
    "            param.grad.data.zero_()"
   ]
  },
  {
   "cell_type": "markdown",
   "metadata": {},
   "source": [
    "## Training"
   ]
  },
  {
   "cell_type": "code",
   "execution_count": 7,
   "metadata": {},
   "outputs": [
    {
     "name": "stdout",
     "output_type": "stream",
     "text": [
      "epoch 100: loss = 8.588  W = 2.890  b = 4.347\n",
      "epoch 200: loss = 3.189  W = 2.532  b = 6.608\n",
      "epoch 300: loss = 1.272  W = 2.319  b = 7.956\n",
      "epoch 400: loss = 0.591  W = 2.192  b = 8.758\n",
      "epoch 500: loss = 0.350  W = 2.117  b = 9.237\n",
      "epoch 600: loss = 0.264  W = 2.072  b = 9.522\n",
      "epoch 700: loss = 0.233  W = 2.045  b = 9.691\n",
      "epoch 800: loss = 0.223  W = 2.029  b = 9.793\n",
      "epoch 900: loss = 0.219  W = 2.019  b = 9.853\n",
      "epoch 1000: loss = 0.217  W = 2.014  b = 9.889\n"
     ]
    }
   ],
   "source": [
    "X = torch.Tensor(x_)\n",
    "y = torch.Tensor(y_)\n",
    "\n",
    "W = torch.zeros(1, requires_grad=True) # needs autograd for backpropation\n",
    "b = torch.zeros(1, requires_grad=True)\n",
    "\n",
    "optimizer = torch.optim.SGD([W, b], lr=0.01) # updating algorithm\n",
    "\n",
    "epochs = 1000\n",
    "for i in range(epochs):\n",
    "    \n",
    "    y_pred = LinearRegression(X)\n",
    "    loss = MSEloss(y_pred, y)\n",
    "    loss.backward()\n",
    "    gradient_descent([W, b])\n",
    "    \n",
    "    if (i+1) % 100 == 0:\n",
    "        print(f'epoch {i+1}: loss = {loss:.3f}  W = {W.item():.3f}  b = {b.item():.3f}')"
   ]
  },
  {
   "cell_type": "markdown",
   "metadata": {},
   "source": [
    "## Using Pytorch modules"
   ]
  },
  {
   "cell_type": "code",
   "execution_count": 8,
   "metadata": {},
   "outputs": [],
   "source": [
    "import torch\n",
    "import torch.nn as nn\n",
    "import torch.optim as optim"
   ]
  },
  {
   "cell_type": "code",
   "execution_count": 9,
   "metadata": {},
   "outputs": [],
   "source": [
    "class LinearRegression(nn.Module):\n",
    "\n",
    "    def __init__(self):\n",
    "        super().__init__()\n",
    "        self.linear = nn.Linear(1, 1)\n",
    "\n",
    "    def forward(self, x):\n",
    "        return self.linear(x)"
   ]
  },
  {
   "cell_type": "code",
   "execution_count": 10,
   "metadata": {},
   "outputs": [
    {
     "name": "stdout",
     "output_type": "stream",
     "text": [
      "epoch 100: loss = 7.467  W = 2.829  b = 4.735\n",
      "epoch 200: loss = 2.791  W = 2.496  b = 6.839\n",
      "epoch 300: loss = 1.130  W = 2.297  b = 8.093\n",
      "epoch 400: loss = 0.541  W = 2.179  b = 8.840\n",
      "epoch 500: loss = 0.332  W = 2.109  b = 9.286\n",
      "epoch 600: loss = 0.258  W = 2.067  b = 9.551\n",
      "epoch 700: loss = 0.231  W = 2.042  b = 9.709\n",
      "epoch 800: loss = 0.222  W = 2.027  b = 9.803\n",
      "epoch 900: loss = 0.218  W = 2.018  b = 9.859\n",
      "epoch 1000: loss = 0.217  W = 2.013  b = 9.893\n"
     ]
    }
   ],
   "source": [
    "X = torch.Tensor(x_).unsqueeze(1)\n",
    "y = torch.Tensor(y_).unsqueeze(1)\n",
    "\n",
    "model = LinearRegression()\n",
    "loss_fn = nn.MSELoss()\n",
    "optimizer = torch.optim.SGD(model.parameters(), lr=0.01)\n",
    "\n",
    "epochs = 1000\n",
    "for i in range(epochs):\n",
    "    \n",
    "    y_pred = model(X)\n",
    "    loss = loss_fn(y_pred, y)\n",
    "\n",
    "    optimizer.zero_grad()\n",
    "    loss.backward()\n",
    "    optimizer.step()\n",
    "    \n",
    "    if (i+1) % 100 == 0:\n",
    "        W, b = list(model.parameters())\n",
    "        print(f'epoch {i+1}: loss = {loss:.3f}  W = {W.item():.3f}  b = {b.item():.3f}')"
   ]
  },
  {
   "cell_type": "markdown",
   "metadata": {},
   "source": [
    "## Multivariate Linear Regression"
   ]
  },
  {
   "cell_type": "markdown",
   "metadata": {},
   "source": [
    "$$ H(X) = XW + b $$"
   ]
  },
  {
   "cell_type": "code",
   "execution_count": 32,
   "metadata": {},
   "outputs": [],
   "source": [
    "x_ = np.random.rand(100, 5) * 10\n",
    "y_ = x_ @ np.array([0.1, 0.2, 0.3, 0.4, 0.5]) + 10 + np.random.randn(100)*0.5"
   ]
  },
  {
   "cell_type": "code",
   "execution_count": 33,
   "metadata": {},
   "outputs": [],
   "source": [
    "class MultivariateLinearRegression(nn.Module):\n",
    "\n",
    "    def __init__(self):\n",
    "        super().__init__()\n",
    "        self.linear = nn.Linear(5, 1) # input dimension 만 바뀜\n",
    "\n",
    "    def forward(self, x):\n",
    "        return self.linear(x)"
   ]
  },
  {
   "cell_type": "code",
   "execution_count": 38,
   "metadata": {},
   "outputs": [
    {
     "name": "stdout",
     "output_type": "stream",
     "text": [
      "epoch 1000: loss = 2.567  W = [0.34842396 0.37391397 0.48941836 0.61965036 0.76563925]  b = 4.014\n",
      "epoch 2000: loss = 1.043  W = [0.25187078 0.30679157 0.41900432 0.5211035  0.66027004]  b = 6.447\n",
      "epoch 3000: loss = 0.501  W = [0.19432724 0.26678813 0.37703907 0.46237174 0.59747225]  b = 7.897\n",
      "epoch 4000: loss = 0.309  W = [0.16003287 0.24294719 0.35202906 0.42736924 0.5600465 ]  b = 8.761\n",
      "epoch 5000: loss = 0.241  W = [0.13959418 0.2287385  0.33712357 0.4065085  0.53774154]  b = 9.276\n",
      "epoch 6000: loss = 0.217  W = [0.1274133  0.2202705  0.3282403  0.3940761  0.52444845]  b = 9.583\n",
      "epoch 7000: loss = 0.208  W = [0.12015361 0.21522367 0.32294595 0.38666654 0.51652586]  b = 9.766\n",
      "epoch 8000: loss = 0.205  W = [0.1158271  0.21221597 0.31979078 0.38225067 0.5118044 ]  b = 9.875\n",
      "epoch 9000: loss = 0.204  W = [0.11324874 0.21042353 0.31791046 0.3796191  0.5089906 ]  b = 9.940\n",
      "epoch 10000: loss = 0.203  W = [0.11171208 0.20935528 0.31678984 0.37805068 0.5073136 ]  b = 9.979\n"
     ]
    }
   ],
   "source": [
    "X = torch.Tensor(x_)\n",
    "y = torch.Tensor(y_).unsqueeze(1)\n",
    "\n",
    "model = MultivariateLinearRegression()\n",
    "loss_fn = nn.MSELoss()\n",
    "optimizer = torch.optim.SGD(model.parameters(), lr=0.004)\n",
    "\n",
    "epochs = 10000\n",
    "for i in range(epochs):\n",
    "\n",
    "    y_pred = model(X)\n",
    "    loss = loss_fn(y_pred, y)\n",
    "\n",
    "    optimizer.zero_grad()\n",
    "    loss.backward()\n",
    "    optimizer.step()\n",
    "    \n",
    "    if (i+1) % 1000 == 0:\n",
    "        W, b = list(model.parameters())\n",
    "        print(f'epoch {i+1}: loss = {loss:.3f}  W = {W.detach().numpy()[0]}  b = {b.item():.3f}')"
   ]
  }
 ],
 "metadata": {
  "kernelspec": {
   "display_name": "pytorch",
   "language": "python",
   "name": "pytorch"
  },
  "language_info": {
   "codemirror_mode": {
    "name": "ipython",
    "version": 3
   },
   "file_extension": ".py",
   "mimetype": "text/x-python",
   "name": "python",
   "nbconvert_exporter": "python",
   "pygments_lexer": "ipython3",
   "version": "3.8.10"
  }
 },
 "nbformat": 4,
 "nbformat_minor": 4
}
