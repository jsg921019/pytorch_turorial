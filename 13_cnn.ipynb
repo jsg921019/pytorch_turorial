{
 "cells": [
  {
   "cell_type": "code",
   "execution_count": 1,
   "metadata": {},
   "outputs": [],
   "source": [
    "import numpy as np\n",
    "import matplotlib.pyplot as plt\n",
    "\n",
    "import torch\n",
    "import torch.nn as nn\n",
    "import torchvision\n",
    "import torchvision.transforms as transforms\n",
    "from torch.utils.data import DataLoader"
   ]
  },
  {
   "cell_type": "code",
   "execution_count": 2,
   "metadata": {},
   "outputs": [],
   "source": [
    "device = 'cuda' if torch.cuda.is_available() else 'cpu'\n",
    "\n",
    "# for reproducibility\n",
    "np.random.seed(777)\n",
    "torch.manual_seed(777)\n",
    "if device == 'cuda':\n",
    "    torch.cuda.manual_seed_all(777)"
   ]
  },
  {
   "cell_type": "code",
   "execution_count": 3,
   "metadata": {},
   "outputs": [],
   "source": [
    "dataset_train = torchvision.datasets.MNIST(root='', train=True, transform=transforms.ToTensor())\n",
    "dataset_test = torchvision.datasets.MNIST(root='', train=False, transform=transforms.ToTensor())"
   ]
  },
  {
   "cell_type": "code",
   "execution_count": 4,
   "metadata": {},
   "outputs": [],
   "source": [
    "# parameters\n",
    "lr = 0.001\n",
    "training_epochs = 15\n",
    "batch_size = 64\n",
    "dropout_rate = 0.5"
   ]
  },
  {
   "cell_type": "code",
   "execution_count": 5,
   "metadata": {},
   "outputs": [],
   "source": [
    "dataloader_train = DataLoader(dataset_train, batch_size=batch_size, shuffle=True, drop_last=True)\n",
    "dataloader_test = DataLoader(dataset_test, batch_size=batch_size, shuffle=True, drop_last=True)"
   ]
  },
  {
   "cell_type": "code",
   "execution_count": 6,
   "metadata": {},
   "outputs": [],
   "source": [
    "class CNNModel(nn.Module):\n",
    "\n",
    "    def __init__(self):\n",
    "        '''\n",
    "        L1 ImgIn shape=(?, 28, 28, 1)\n",
    "           Conv     -> (?, 28, 28, 32)\n",
    "           Pool     -> (?, 14, 14, 32)\n",
    "\n",
    "        L2 ImgIn shape=(?, 14, 14, 32)\n",
    "           Conv      ->(?, 14, 14, 64)\n",
    "           Pool      ->(?, 7, 7, 64)\n",
    "        \n",
    "        L3 ImgIn shape=(?, 7, 7, 64)\n",
    "           Conv      ->(?, 7, 7, 128)\n",
    "           Pool      ->(?, 4, 4, 128)\n",
    "           Flatten   ->(?, 4x4x128)\n",
    "\n",
    "        L4 ImgIn shape=(?, 4x4x128)\n",
    "           FC        ->(?, 625)\n",
    "        \n",
    "        L5 Final \n",
    "           FC 625 inputs -> 10 outputs\n",
    "        '''\n",
    "        super(CNNModel, self).__init__()\n",
    "\n",
    "        self.layer1 = nn.Sequential(\n",
    "            nn.Conv2d(1, 32, kernel_size=3, stride=1, padding=1),\n",
    "            nn.ReLU(),\n",
    "            nn.MaxPool2d(kernel_size=2, stride=2))\n",
    "\n",
    "        self.layer2 = torch.nn.Sequential(\n",
    "            nn.Conv2d(32, 64, kernel_size=3, stride=1, padding=1),\n",
    "            nn.ReLU(),\n",
    "            nn.MaxPool2d(kernel_size=2, stride=2))\n",
    "        \n",
    "        self.layer3 = torch.nn.Sequential(\n",
    "            nn.Conv2d(64, 128, kernel_size=3, stride=1, padding=1),\n",
    "            nn.ReLU(),\n",
    "            nn.MaxPool2d(kernel_size=2, stride=2, padding=1),\n",
    "            nn.Flatten())\n",
    "        \n",
    "        self.fc1 = nn.Linear(4 * 4 * 128, 625)\n",
    "        nn.init.xavier_uniform_(self.fc1.weight)\n",
    "        \n",
    "        self.layer4 = torch.nn.Sequential(\n",
    "            self.fc1,\n",
    "            torch.nn.ReLU(),\n",
    "            torch.nn.Dropout(p=dropout_rate))\n",
    "\n",
    "        self.fc2 = torch.nn.Linear(625, 10)\n",
    "        torch.nn.init.xavier_uniform_(self.fc2.weight)\n",
    "\n",
    "    def forward(self, x):\n",
    "        out = self.layer1(x)\n",
    "        out = self.layer2(out)\n",
    "        out = self.layer3(out)\n",
    "        out = self.layer4(out)\n",
    "        out = self.fc2(out)\n",
    "\n",
    "        return out"
   ]
  },
  {
   "cell_type": "code",
   "execution_count": 7,
   "metadata": {
    "scrolled": true
   },
   "outputs": [
    {
     "name": "stdout",
     "output_type": "stream",
     "text": [
      "Start training...\n",
      "epoch 1    training loss:0.172    training acc:0.946    test loss:0.054    test acc:0.982\n",
      "epoch 2    training loss:0.050    training acc:0.985    test loss:0.048    test acc:0.984\n",
      "epoch 3    training loss:0.037    training acc:0.989    test loss:0.040    test acc:0.988\n",
      "epoch 4    training loss:0.029    training acc:0.991    test loss:0.036    test acc:0.990\n",
      "epoch 5    training loss:0.024    training acc:0.992    test loss:0.031    test acc:0.990\n",
      "epoch 6    training loss:0.020    training acc:0.994    test loss:0.029    test acc:0.991\n",
      "epoch 7    training loss:0.017    training acc:0.995    test loss:0.034    test acc:0.990\n",
      "epoch 8    training loss:0.015    training acc:0.995    test loss:0.038    test acc:0.990\n",
      "epoch 9    training loss:0.013    training acc:0.996    test loss:0.037    test acc:0.990\n",
      "epoch 10    training loss:0.010    training acc:0.997    test loss:0.033    test acc:0.991\n",
      "epoch 11    training loss:0.009    training acc:0.997    test loss:0.039    test acc:0.991\n",
      "epoch 12    training loss:0.011    training acc:0.997    test loss:0.044    test acc:0.990\n",
      "epoch 13    training loss:0.008    training acc:0.997    test loss:0.036    test acc:0.992\n",
      "epoch 14    training loss:0.008    training acc:0.997    test loss:0.041    test acc:0.991\n",
      "epoch 15    training loss:0.008    training acc:0.997    test loss:0.052    test acc:0.989\n",
      "Finished Training\n"
     ]
    }
   ],
   "source": [
    "model = CNNModel().to(device)\n",
    "\n",
    "optimizer = torch.optim.Adam(model.parameters(), lr=lr)\n",
    "criterion = nn.CrossEntropyLoss()\n",
    "\n",
    "print('Start training...')\n",
    "\n",
    "for epoch in range(1, training_epochs+1):\n",
    "\n",
    "    running_loss = 0\n",
    "    running_correct = 0\n",
    "\n",
    "    for X, y in dataloader_train:\n",
    "        X, y = X.to(device), y.to(device)\n",
    "        y_pred = model(X)\n",
    "        loss = criterion(y_pred, y)\n",
    "\n",
    "        optimizer.zero_grad()\n",
    "        loss.backward()\n",
    "        optimizer.step()\n",
    "\n",
    "        with torch.no_grad():\n",
    "            running_loss += loss.item()\n",
    "            running_correct += sum(y_pred.argmax(dim=1) == y)/batch_size\n",
    "\n",
    "    running_test_loss = 0\n",
    "    running_test_correct = 0\n",
    "    \n",
    "    with torch.no_grad():\n",
    "        for X, y in dataloader_test:\n",
    "            X, y = X.to(device), y.to(device)\n",
    "            y_pred = model(X)\n",
    "            loss = criterion(y_pred, y)\n",
    "\n",
    "            running_test_loss += loss.item()\n",
    "            running_test_correct += sum(y_pred.argmax(dim=1) == y)/batch_size\n",
    "    \n",
    "    print(f'epoch {epoch}\\\n",
    "    training loss:{running_loss/len(dataloader_train):.3f}\\\n",
    "    training acc:{running_correct/len(dataloader_train):.3f}\\\n",
    "    test loss:{running_test_loss/len(dataloader_test):.3f}\\\n",
    "    test acc:{running_test_correct/len(dataloader_test):.3f}')\n",
    "\n",
    "print('Finished Training')"
   ]
  },
  {
   "cell_type": "code",
   "execution_count": null,
   "metadata": {},
   "outputs": [],
   "source": []
  }
 ],
 "metadata": {
  "kernelspec": {
   "display_name": "pytorch",
   "language": "python",
   "name": "pytorch"
  },
  "language_info": {
   "codemirror_mode": {
    "name": "ipython",
    "version": 3
   },
   "file_extension": ".py",
   "mimetype": "text/x-python",
   "name": "python",
   "nbconvert_exporter": "python",
   "pygments_lexer": "ipython3",
   "version": "3.8.10"
  }
 },
 "nbformat": 4,
 "nbformat_minor": 4
}
