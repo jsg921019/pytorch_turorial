{
 "cells": [
  {
   "cell_type": "code",
   "execution_count": 1,
   "metadata": {},
   "outputs": [],
   "source": [
    "import numpy as np\n",
    "import matplotlib.pyplot as plt\n",
    "\n",
    "import torch\n",
    "import torch.nn as nn"
   ]
  },
  {
   "cell_type": "code",
   "execution_count": 2,
   "metadata": {},
   "outputs": [
    {
     "data": {
      "text/plain": [
       "<torch._C.Generator at 0x7f9cd92dd570>"
      ]
     },
     "execution_count": 2,
     "metadata": {},
     "output_type": "execute_result"
    }
   ],
   "source": [
    "torch.manual_seed(0)"
   ]
  },
  {
   "cell_type": "markdown",
   "metadata": {},
   "source": [
    "## RNN"
   ]
  },
  {
   "cell_type": "markdown",
   "metadata": {},
   "source": [
    "$$\n",
    "h_t = tanh(\\mathbf{W}_{ih}x_t + \\mathbf{W}_{hh}h_{t-1} + b_{h})\\\\\n",
    "y_t = \\mathbf{W}_{hy} h_t + b_y\n",
    "$$\n",
    "<br>\n",
    "<img src='img/rnn.png' width=50% height=50%/>"
   ]
  },
  {
   "cell_type": "markdown",
   "metadata": {},
   "source": [
    "## Dimension check"
   ]
  },
  {
   "cell_type": "code",
   "execution_count": 3,
   "metadata": {},
   "outputs": [
    {
     "data": {
      "text/plain": [
       "torch.Size([3, 5, 4])"
      ]
     },
     "execution_count": 3,
     "metadata": {},
     "output_type": "execute_result"
    }
   ],
   "source": [
    "input_size = 4\n",
    "hidden_size = 2\n",
    "\n",
    "h = [1, 0, 0, 0]\n",
    "e = [0, 1, 0, 0]\n",
    "l = [0, 0, 1, 0]\n",
    "o = [0, 0, 0, 1]\n",
    "\n",
    "input_data_np = np.array([[h, e, l, l, o], [e, o, l, l, l], [l, l, e, e, l]], dtype=np.float32)\n",
    "input_data = torch.Tensor(input_data_np)\n",
    "\n",
    "input_data.shape # (batch_size, sequence_length, input_size)"
   ]
  },
  {
   "cell_type": "code",
   "execution_count": 4,
   "metadata": {},
   "outputs": [],
   "source": [
    "rnn = torch.nn.RNN(input_size, hidden_size, batch_first=True)"
   ]
  },
  {
   "cell_type": "code",
   "execution_count": 5,
   "metadata": {},
   "outputs": [
    {
     "name": "stdout",
     "output_type": "stream",
     "text": [
      "weight_ih_l0 : torch.Size([2, 4])\n",
      "weight_hh_l0 : torch.Size([2, 2])\n",
      "bias_ih_l0 : torch.Size([2])\n",
      "bias_hh_l0 : torch.Size([2])\n"
     ]
    }
   ],
   "source": [
    "for n, w in rnn.named_parameters():\n",
    "    print(n,':', w.shape)"
   ]
  },
  {
   "cell_type": "markdown",
   "metadata": {},
   "source": [
    "> Second bias vector included for CuDNN compatibility. Only one\n",
    "  bias vector is needed in standard definition."
   ]
  },
  {
   "cell_type": "code",
   "execution_count": 6,
   "metadata": {},
   "outputs": [
    {
     "name": "stdout",
     "output_type": "stream",
     "text": [
      "tensor([[[-0.7497, -0.6135],\n",
      "         [-0.5753, -0.0070],\n",
      "         [-0.9077, -0.3205],\n",
      "         [-0.9141, -0.2142],\n",
      "         [-0.8996,  0.3307]],\n",
      "\n",
      "        [[-0.5282, -0.2473],\n",
      "         [-0.9052,  0.2597],\n",
      "         [-0.8944, -0.2902],\n",
      "         [-0.9133, -0.2209],\n",
      "         [-0.9109, -0.2263]],\n",
      "\n",
      "        [[-0.9136, -0.4269],\n",
      "         [-0.9173, -0.1989],\n",
      "         [-0.5134, -0.0288],\n",
      "         [-0.5086, -0.1379],\n",
      "         [-0.9126, -0.3170]]], grad_fn=<TransposeBackward1>)\n",
      "torch.Size([3, 5, 2])\n"
     ]
    }
   ],
   "source": [
    "outputs, last_hidden = rnn(input_data)\n",
    "print(outputs)\n",
    "print(outputs.size()) # batch_size, sequence_length, output_size"
   ]
  },
  {
   "cell_type": "code",
   "execution_count": 7,
   "metadata": {},
   "outputs": [
    {
     "data": {
      "text/plain": [
       "tensor(True)"
      ]
     },
     "execution_count": 7,
     "metadata": {},
     "output_type": "execute_result"
    }
   ],
   "source": [
    "torch.all(outputs[:,-1] == last_hidden)"
   ]
  },
  {
   "cell_type": "markdown",
   "metadata": {},
   "source": [
    "## Charseq"
   ]
  },
  {
   "cell_type": "code",
   "execution_count": 8,
   "metadata": {},
   "outputs": [],
   "source": [
    "sample = \" learned deep learning\""
   ]
  },
  {
   "cell_type": "markdown",
   "metadata": {},
   "source": [
    "### integer encoding"
   ]
  },
  {
   "cell_type": "code",
   "execution_count": 9,
   "metadata": {},
   "outputs": [
    {
     "name": "stdout",
     "output_type": "stream",
     "text": [
      "{'e': 0, 'g': 1, 'n': 2, 'i': 3, 'd': 4, 'r': 5, 'l': 6, ' ': 7, 'p': 8, 'a': 9}\n"
     ]
    }
   ],
   "source": [
    "char_list = list(set(sample))\n",
    "char_dic = {c: i for i, c in enumerate(char_list)}\n",
    "print(char_dic)"
   ]
  },
  {
   "cell_type": "code",
   "execution_count": 10,
   "metadata": {},
   "outputs": [],
   "source": [
    "sample_idx = [char_dic[c] for c in sample]\n",
    "x_data = [sample_idx[:-1]]"
   ]
  },
  {
   "cell_type": "markdown",
   "metadata": {},
   "source": [
    "### one-hot encoding"
   ]
  },
  {
   "cell_type": "code",
   "execution_count": 11,
   "metadata": {},
   "outputs": [
    {
     "data": {
      "text/plain": [
       "[6, 0, 9, 5, 2, 0, 4, 7, 4, 0, 0, 8, 7, 6, 0, 9, 5, 2, 3, 2, 1]"
      ]
     },
     "execution_count": 11,
     "metadata": {},
     "output_type": "execute_result"
    }
   ],
   "source": [
    "x_one_hot = [np.eye(len(char_dic))[x] for x in x_data]\n",
    "y_data = sample_idx[1:]\n",
    "y_data"
   ]
  },
  {
   "cell_type": "markdown",
   "metadata": {},
   "source": [
    "### training with rnn"
   ]
  },
  {
   "cell_type": "code",
   "execution_count": 12,
   "metadata": {},
   "outputs": [],
   "source": [
    "X = torch.FloatTensor(x_one_hot)\n",
    "Y = torch.LongTensor(y_data)"
   ]
  },
  {
   "cell_type": "code",
   "execution_count": 13,
   "metadata": {},
   "outputs": [],
   "source": [
    "dic_size = len(char_dic)\n",
    "hidden_size = len(char_dic)\n",
    "n_epochs = 50\n",
    "lr = 0.5\n",
    "\n",
    "rnn = torch.nn.RNN(dic_size, hidden_size, batch_first=True)\n",
    "criterion = nn.CrossEntropyLoss()\n",
    "optimizer = torch.optim.SGD(rnn.parameters(), lr=lr, momentum=0.9)"
   ]
  },
  {
   "cell_type": "code",
   "execution_count": 14,
   "metadata": {},
   "outputs": [
    {
     "name": "stdout",
     "output_type": "stream",
     "text": [
      "epoch 5    loss:2.006  prediction:eeeeeeeeeeeeeeeeeeeee\n",
      "epoch 10   loss:1.523  prediction:eearnepeeeep eearnene\n",
      "epoch 15   loss:1.218  prediction:learned eeep eearneng\n",
      "epoch 20   loss:1.099  prediction:learnid deep learning\n",
      "epoch 25   loss:1.036  prediction:learnid leep learning\n",
      "epoch 30   loss:0.998  prediction:learnid leep learning\n",
      "epoch 35   loss:0.974  prediction:learnid leep learning\n",
      "epoch 40   loss:0.952  prediction:learnid leep learning\n",
      "epoch 45   loss:0.939  prediction:learnid leep learning\n",
      "epoch 50   loss:0.929  prediction:learnid leep learning\n"
     ]
    }
   ],
   "source": [
    "for epoch in range(n_epochs):\n",
    "\n",
    "    outputs, _status = rnn(X)\n",
    "    outputs = outputs.view(-1, dic_size)\n",
    "    loss = criterion(outputs, Y)\n",
    "\n",
    "    optimizer.zero_grad()\n",
    "    loss.backward()\n",
    "    optimizer.step()\n",
    "\n",
    "    result = outputs.detach().numpy().argmax(axis=1)\n",
    "    result_str = ''.join([char_list[c] for c in result])\n",
    "    if (epoch+1) % 5 == 0:\n",
    "        print(f'epoch {epoch+1:<3}  loss:{loss.item():.3f}  prediction:{result_str}')"
   ]
  }
 ],
 "metadata": {
  "kernelspec": {
   "display_name": "pytorch",
   "language": "python",
   "name": "pytorch"
  },
  "language_info": {
   "codemirror_mode": {
    "name": "ipython",
    "version": 3
   },
   "file_extension": ".py",
   "mimetype": "text/x-python",
   "name": "python",
   "nbconvert_exporter": "python",
   "pygments_lexer": "ipython3",
   "version": "3.8.10"
  }
 },
 "nbformat": 4,
 "nbformat_minor": 4
}
